{
 "metadata": {
  "language_info": {
   "codemirror_mode": {
    "name": "ipython",
    "version": 3
   },
   "file_extension": ".py",
   "mimetype": "text/x-python",
   "name": "python",
   "nbconvert_exporter": "python",
   "pygments_lexer": "ipython3",
   "version": "3.7.6-final"
  },
  "orig_nbformat": 2,
  "kernelspec": {
   "name": "python_defaultSpec_1598216664634",
   "display_name": "Python 3.7.6 64-bit ('dk': venv)"
  }
 },
 "nbformat": 4,
 "nbformat_minor": 2,
 "cells": [
  {
   "cell_type": "markdown",
   "metadata": {},
   "source": [
    "# Model Aggregation\n",
    "Roll up Census block group estimates to the Census tract and county levels."
   ]
  },
  {
   "cell_type": "code",
   "execution_count": 1,
   "metadata": {},
   "outputs": [],
   "source": [
    "from pathlib import Path\n",
    "import pandas as pd\n",
    "import numpy as np\n",
    "import re"
   ]
  },
  {
   "cell_type": "markdown",
   "metadata": {},
   "source": [
    "## Gather & Combine Model Outputs"
   ]
  },
  {
   "cell_type": "code",
   "execution_count": 2,
   "metadata": {},
   "outputs": [],
   "source": [
    "# set relative paths\n",
    "p = Path.cwd()\n",
    "data_path = p.parent.parent / 'Data' / 'Model Outputs' \n",
    "\n",
    "fire_propensity_path =  data_path / 'PropensityBlockModel_2014_2016.csv'\n",
    "\n",
    "smoke_alarm_path = data_path / 'SmokeAlarmModelOutput.csv'"
   ]
  },
  {
   "cell_type": "code",
   "execution_count": 3,
   "metadata": {
    "tags": []
   },
   "outputs": [
    {
     "output_type": "stream",
     "name": "stdout",
     "text": "117897 geoids\n"
    },
    {
     "output_type": "display_data",
     "data": {
      "text/plain": "            geoid  fire_propensity_bg\n0  #_484391003002            0.331762\n1  #_240338074052            0.525867\n2  #_090075702002            0.116280\n3  #_280679504021            0.849792\n4  #_191050701003            0.261825",
      "text/html": "<div>\n<style scoped>\n    .dataframe tbody tr th:only-of-type {\n        vertical-align: middle;\n    }\n\n    .dataframe tbody tr th {\n        vertical-align: top;\n    }\n\n    .dataframe thead th {\n        text-align: right;\n    }\n</style>\n<table border=\"1\" class=\"dataframe\">\n  <thead>\n    <tr style=\"text-align: right;\">\n      <th></th>\n      <th>geoid</th>\n      <th>fire_propensity_bg</th>\n    </tr>\n  </thead>\n  <tbody>\n    <tr>\n      <th>0</th>\n      <td>#_484391003002</td>\n      <td>0.331762</td>\n    </tr>\n    <tr>\n      <th>1</th>\n      <td>#_240338074052</td>\n      <td>0.525867</td>\n    </tr>\n    <tr>\n      <th>2</th>\n      <td>#_090075702002</td>\n      <td>0.116280</td>\n    </tr>\n    <tr>\n      <th>3</th>\n      <td>#_280679504021</td>\n      <td>0.849792</td>\n    </tr>\n    <tr>\n      <th>4</th>\n      <td>#_191050701003</td>\n      <td>0.261825</td>\n    </tr>\n  </tbody>\n</table>\n</div>"
     },
     "metadata": {}
    }
   ],
   "source": [
    "# load fire propensity\n",
    "dtypes = {'GEOID': str}\n",
    "cols_to_use = ['Predicted_Probs', 'GEOID']\n",
    "fire_prop = pd.read_csv(fire_propensity_path, usecols=cols_to_use, dtype=dtypes)\n",
    "fire_prop.rename({'Predicted_Probs': 'fire_propensity_bg', 'GEOID': 'geoid'}, axis='columns', inplace=True)\n",
    "fire_prop['geoid'] = '#_' + fire_prop['geoid']\n",
    "fire_prop = fire_prop[['geoid', 'fire_propensity_bg']]\n",
    "print('{} geoids'.format(fire_prop.shape[0]))\n",
    "display(fire_prop.head())"
   ]
  },
  {
   "cell_type": "code",
   "execution_count": 4,
   "metadata": {
    "tags": []
   },
   "outputs": [
    {
     "output_type": "stream",
     "name": "stdout",
     "text": "195114 geoids\n"
    },
    {
     "output_type": "display_data",
     "data": {
      "text/plain": "            geoid  detectors_cnty  detectors_trt  detectors_bg\n0  #_010010201001           52.63            NaN           NaN\n1  #_010010201002           52.63            NaN           NaN\n2  #_010010202001           52.63            NaN           NaN\n3  #_010010202002           52.63            NaN           NaN\n4  #_010010203001           52.63            NaN           NaN",
      "text/html": "<div>\n<style scoped>\n    .dataframe tbody tr th:only-of-type {\n        vertical-align: middle;\n    }\n\n    .dataframe tbody tr th {\n        vertical-align: top;\n    }\n\n    .dataframe thead th {\n        text-align: right;\n    }\n</style>\n<table border=\"1\" class=\"dataframe\">\n  <thead>\n    <tr style=\"text-align: right;\">\n      <th></th>\n      <th>geoid</th>\n      <th>detectors_cnty</th>\n      <th>detectors_trt</th>\n      <th>detectors_bg</th>\n    </tr>\n  </thead>\n  <tbody>\n    <tr>\n      <th>0</th>\n      <td>#_010010201001</td>\n      <td>52.63</td>\n      <td>NaN</td>\n      <td>NaN</td>\n    </tr>\n    <tr>\n      <th>1</th>\n      <td>#_010010201002</td>\n      <td>52.63</td>\n      <td>NaN</td>\n      <td>NaN</td>\n    </tr>\n    <tr>\n      <th>2</th>\n      <td>#_010010202001</td>\n      <td>52.63</td>\n      <td>NaN</td>\n      <td>NaN</td>\n    </tr>\n    <tr>\n      <th>3</th>\n      <td>#_010010202002</td>\n      <td>52.63</td>\n      <td>NaN</td>\n      <td>NaN</td>\n    </tr>\n    <tr>\n      <th>4</th>\n      <td>#_010010203001</td>\n      <td>52.63</td>\n      <td>NaN</td>\n      <td>NaN</td>\n    </tr>\n  </tbody>\n</table>\n</div>"
     },
     "metadata": {}
    }
   ],
   "source": [
    "# load smoke alarm\n",
    "smoke_alarm = pd.read_csv(smoke_alarm_path, dtype=dtypes)\n",
    "smoke_alarm.drop(smoke_alarm.columns[0], axis='columns', inplace=True)\n",
    "smoke_alarm.drop('num_surveys', axis='columns', inplace=True)\n",
    "\n",
    "geos = {'County': 'cnty', 'Tract': 'trt', 'Block': 'bg'}\n",
    "smoke_alarm['estimate_geography'] = smoke_alarm['estimate_geography'].map(geos)\n",
    "smoke_alarm.drop('detectors_prc_ci', axis='columns', inplace=True)\n",
    "smoke_alarm = smoke_alarm.pivot(index='geoid', columns='estimate_geography', values='detectors_prc_mean')\n",
    "smoke_alarm.columns = ['detectors_{}'.format(col) for col in smoke_alarm.columns.values]\n",
    "smoke_alarm.reset_index(inplace=True)\n",
    "\n",
    "cols = ['geoid', 'detectors_cnty', 'detectors_trt', 'detectors_bg']\n",
    "smoke_alarm = smoke_alarm[cols]\n",
    "\n",
    "print('{} geoids'.format(smoke_alarm.shape[0]))\n",
    "display(smoke_alarm.head())"
   ]
  },
  {
   "cell_type": "code",
   "execution_count": 5,
   "metadata": {
    "tags": []
   },
   "outputs": [
    {
     "output_type": "stream",
     "name": "stdout",
     "text": "225570 geoids\n"
    },
    {
     "output_type": "display_data",
     "data": {
      "text/plain": "            geoid  fire_propensity_bg  detectors_cnty  detectors_trt  \\\n0  #_484391003002            0.331762           40.62            NaN   \n1  #_240338074052            0.525867           26.39            NaN   \n2  #_090075702002            0.116280           55.15            NaN   \n3  #_280679504021            0.849792             NaN            NaN   \n4  #_280679504021            0.860052             NaN            NaN   \n\n   detectors_bg  \n0           NaN  \n1           NaN  \n2           NaN  \n3         14.63  \n4         14.63  ",
      "text/html": "<div>\n<style scoped>\n    .dataframe tbody tr th:only-of-type {\n        vertical-align: middle;\n    }\n\n    .dataframe tbody tr th {\n        vertical-align: top;\n    }\n\n    .dataframe thead th {\n        text-align: right;\n    }\n</style>\n<table border=\"1\" class=\"dataframe\">\n  <thead>\n    <tr style=\"text-align: right;\">\n      <th></th>\n      <th>geoid</th>\n      <th>fire_propensity_bg</th>\n      <th>detectors_cnty</th>\n      <th>detectors_trt</th>\n      <th>detectors_bg</th>\n    </tr>\n  </thead>\n  <tbody>\n    <tr>\n      <th>0</th>\n      <td>#_484391003002</td>\n      <td>0.331762</td>\n      <td>40.62</td>\n      <td>NaN</td>\n      <td>NaN</td>\n    </tr>\n    <tr>\n      <th>1</th>\n      <td>#_240338074052</td>\n      <td>0.525867</td>\n      <td>26.39</td>\n      <td>NaN</td>\n      <td>NaN</td>\n    </tr>\n    <tr>\n      <th>2</th>\n      <td>#_090075702002</td>\n      <td>0.116280</td>\n      <td>55.15</td>\n      <td>NaN</td>\n      <td>NaN</td>\n    </tr>\n    <tr>\n      <th>3</th>\n      <td>#_280679504021</td>\n      <td>0.849792</td>\n      <td>NaN</td>\n      <td>NaN</td>\n      <td>14.63</td>\n    </tr>\n    <tr>\n      <th>4</th>\n      <td>#_280679504021</td>\n      <td>0.860052</td>\n      <td>NaN</td>\n      <td>NaN</td>\n      <td>14.63</td>\n    </tr>\n  </tbody>\n</table>\n</div>"
     },
     "metadata": {}
    }
   ],
   "source": [
    "# combine\n",
    "models_raw = pd.merge(fire_prop, smoke_alarm, how='outer')\n",
    "\n",
    "print('{} geoids'.format(models_raw.shape[0]))\n",
    "display(models_raw.head())"
   ]
  },
  {
   "cell_type": "markdown",
   "metadata": {},
   "source": [
    "## Aggregate Model Values to Tract/County\n",
    "Also split out predicted values at each level to be applied later"
   ]
  },
  {
   "cell_type": "code",
   "execution_count": 6,
   "metadata": {
    "tags": []
   },
   "outputs": [
    {
     "output_type": "stream",
     "name": "stdout",
     "text": "225570 block groups\n"
    },
    {
     "output_type": "display_data",
     "data": {
      "text/plain": "12    225570\nName: geoid, dtype: int64"
     },
     "metadata": {}
    },
    {
     "output_type": "display_data",
     "data": {
      "text/plain": "            geoid  fire_propensity_bg  detectors_bg\n0  #_484391003002            0.331762           NaN\n1  #_240338074052            0.525867           NaN\n2  #_090075702002            0.116280           NaN\n3  #_280679504021            0.849792         14.63\n4  #_280679504021            0.860052         14.63",
      "text/html": "<div>\n<style scoped>\n    .dataframe tbody tr th:only-of-type {\n        vertical-align: middle;\n    }\n\n    .dataframe tbody tr th {\n        vertical-align: top;\n    }\n\n    .dataframe thead th {\n        text-align: right;\n    }\n</style>\n<table border=\"1\" class=\"dataframe\">\n  <thead>\n    <tr style=\"text-align: right;\">\n      <th></th>\n      <th>geoid</th>\n      <th>fire_propensity_bg</th>\n      <th>detectors_bg</th>\n    </tr>\n  </thead>\n  <tbody>\n    <tr>\n      <th>0</th>\n      <td>#_484391003002</td>\n      <td>0.331762</td>\n      <td>NaN</td>\n    </tr>\n    <tr>\n      <th>1</th>\n      <td>#_240338074052</td>\n      <td>0.525867</td>\n      <td>NaN</td>\n    </tr>\n    <tr>\n      <th>2</th>\n      <td>#_090075702002</td>\n      <td>0.116280</td>\n      <td>NaN</td>\n    </tr>\n    <tr>\n      <th>3</th>\n      <td>#_280679504021</td>\n      <td>0.849792</td>\n      <td>14.63</td>\n    </tr>\n    <tr>\n      <th>4</th>\n      <td>#_280679504021</td>\n      <td>0.860052</td>\n      <td>14.63</td>\n    </tr>\n  </tbody>\n</table>\n</div>"
     },
     "metadata": {}
    }
   ],
   "source": [
    "# pull out bg values\n",
    "models_bg = models_raw.copy()\n",
    "to_drop = [c for c in models_raw.columns if '_trt' in c or '_cnty' in c]\n",
    "models_bg.drop(to_drop, axis='columns', inplace=True)\n",
    "\n",
    "print('{} block groups'.format(models_bg.shape[0]))\n",
    "display(models_bg['geoid'].str[2:].str.len().value_counts())\n",
    "display(models_bg.head())"
   ]
  },
  {
   "cell_type": "code",
   "execution_count": 7,
   "metadata": {
    "tags": []
   },
   "outputs": [
    {
     "output_type": "stream",
     "name": "stdout",
     "text": "80017 tracts\n"
    },
    {
     "output_type": "display_data",
     "data": {
      "text/plain": "11    80017\nName: geoid_tract, dtype: int64"
     },
     "metadata": {}
    },
    {
     "output_type": "display_data",
     "data": {
      "text/plain": "     geoid_tract  fire_propensity_trt  detectors_trt\n0  #_48439100300             0.302572            NaN\n1  #_24033807405             0.471269            NaN\n2  #_09007570200             0.116280            NaN\n3  #_28067950402             0.721300         20.016\n5  #_19105070100             0.192179            NaN",
      "text/html": "<div>\n<style scoped>\n    .dataframe tbody tr th:only-of-type {\n        vertical-align: middle;\n    }\n\n    .dataframe tbody tr th {\n        vertical-align: top;\n    }\n\n    .dataframe thead th {\n        text-align: right;\n    }\n</style>\n<table border=\"1\" class=\"dataframe\">\n  <thead>\n    <tr style=\"text-align: right;\">\n      <th></th>\n      <th>geoid_tract</th>\n      <th>fire_propensity_trt</th>\n      <th>detectors_trt</th>\n    </tr>\n  </thead>\n  <tbody>\n    <tr>\n      <th>0</th>\n      <td>#_48439100300</td>\n      <td>0.302572</td>\n      <td>NaN</td>\n    </tr>\n    <tr>\n      <th>1</th>\n      <td>#_24033807405</td>\n      <td>0.471269</td>\n      <td>NaN</td>\n    </tr>\n    <tr>\n      <th>2</th>\n      <td>#_09007570200</td>\n      <td>0.116280</td>\n      <td>NaN</td>\n    </tr>\n    <tr>\n      <th>3</th>\n      <td>#_28067950402</td>\n      <td>0.721300</td>\n      <td>20.016</td>\n    </tr>\n    <tr>\n      <th>5</th>\n      <td>#_19105070100</td>\n      <td>0.192179</td>\n      <td>NaN</td>\n    </tr>\n  </tbody>\n</table>\n</div>"
     },
     "metadata": {}
    }
   ],
   "source": [
    "# roll up to tract\n",
    "models_trt = models_raw.copy()\n",
    "to_drop = [c for c in models_raw.columns if '_cnty' in c]\n",
    "models_trt.drop(to_drop, axis='columns', inplace=True)\n",
    "\n",
    "models_trt['geoid_tract'] = models_trt['geoid'].str[:-1]\n",
    "models_trt['fire_propensity_trt'] = models_trt.groupby('geoid_tract').transform('mean')['fire_propensity_bg']\n",
    "models_trt['trt_rollup_detectors'] = models_trt.groupby('geoid_tract').transform('mean')['detectors_bg']\n",
    "\n",
    "models_trt.loc[models_trt['detectors_trt'].isnull(), 'detectors_trt'] = models_trt['trt_rollup_detectors']\n",
    "\n",
    "keep_cols = ['geoid_tract', 'fire_propensity_trt', 'detectors_trt']\n",
    "models_trt = models_trt[keep_cols]\n",
    "models_trt = models_trt.drop_duplicates()\n",
    "\n",
    "print('{} tracts'.format(models_trt.shape[0]))\n",
    "display(models_trt['geoid_tract'].str[2:].str.len().value_counts())\n",
    "display(models_trt.head())\n"
   ]
  },
  {
   "cell_type": "code",
   "execution_count": 8,
   "metadata": {
    "tags": []
   },
   "outputs": [
    {
     "output_type": "stream",
     "name": "stdout",
     "text": "6208 counties in temp\n"
    },
    {
     "output_type": "display_data",
     "data": {
      "text/plain": "   detectors_cnty geoid_cnty\n0           40.62    #_48439\n1           26.39    #_24033\n2           55.15    #_09007\n3             NaN    #_28067\n5           28.73    #_19105",
      "text/html": "<div>\n<style scoped>\n    .dataframe tbody tr th:only-of-type {\n        vertical-align: middle;\n    }\n\n    .dataframe tbody tr th {\n        vertical-align: top;\n    }\n\n    .dataframe thead th {\n        text-align: right;\n    }\n</style>\n<table border=\"1\" class=\"dataframe\">\n  <thead>\n    <tr style=\"text-align: right;\">\n      <th></th>\n      <th>detectors_cnty</th>\n      <th>geoid_cnty</th>\n    </tr>\n  </thead>\n  <tbody>\n    <tr>\n      <th>0</th>\n      <td>40.62</td>\n      <td>#_48439</td>\n    </tr>\n    <tr>\n      <th>1</th>\n      <td>26.39</td>\n      <td>#_24033</td>\n    </tr>\n    <tr>\n      <th>2</th>\n      <td>55.15</td>\n      <td>#_09007</td>\n    </tr>\n    <tr>\n      <th>3</th>\n      <td>NaN</td>\n      <td>#_28067</td>\n    </tr>\n    <tr>\n      <th>5</th>\n      <td>28.73</td>\n      <td>#_19105</td>\n    </tr>\n  </tbody>\n</table>\n</div>"
     },
     "metadata": {}
    },
    {
     "output_type": "stream",
     "name": "stdout",
     "text": "6203 counties\n"
    },
    {
     "output_type": "display_data",
     "data": {
      "text/plain": "7    6203\nName: geoid_cnty, dtype: int64"
     },
     "metadata": {}
    },
    {
     "output_type": "display_data",
     "data": {
      "text/plain": "  geoid_cnty  fire_propensity_cnty  detectors_cnty\n0    #_48439               0.25071       40.620000\n1    #_48439               0.25071       49.730000\n2    #_48439               0.25071       48.620000\n3    #_48439               0.25071       51.521926\n4    #_48439               0.25071       55.360000",
      "text/html": "<div>\n<style scoped>\n    .dataframe tbody tr th:only-of-type {\n        vertical-align: middle;\n    }\n\n    .dataframe tbody tr th {\n        vertical-align: top;\n    }\n\n    .dataframe thead th {\n        text-align: right;\n    }\n</style>\n<table border=\"1\" class=\"dataframe\">\n  <thead>\n    <tr style=\"text-align: right;\">\n      <th></th>\n      <th>geoid_cnty</th>\n      <th>fire_propensity_cnty</th>\n      <th>detectors_cnty</th>\n    </tr>\n  </thead>\n  <tbody>\n    <tr>\n      <th>0</th>\n      <td>#_48439</td>\n      <td>0.25071</td>\n      <td>40.620000</td>\n    </tr>\n    <tr>\n      <th>1</th>\n      <td>#_48439</td>\n      <td>0.25071</td>\n      <td>49.730000</td>\n    </tr>\n    <tr>\n      <th>2</th>\n      <td>#_48439</td>\n      <td>0.25071</td>\n      <td>48.620000</td>\n    </tr>\n    <tr>\n      <th>3</th>\n      <td>#_48439</td>\n      <td>0.25071</td>\n      <td>51.521926</td>\n    </tr>\n    <tr>\n      <th>4</th>\n      <td>#_48439</td>\n      <td>0.25071</td>\n      <td>55.360000</td>\n    </tr>\n  </tbody>\n</table>\n</div>"
     },
     "metadata": {}
    }
   ],
   "source": [
    "# roll up to county\n",
    "\n",
    "# pull county detector estimates out of raw models dataframe\n",
    "models_cnty_temp = models_raw.copy()\n",
    "to_drop = [c for c in models_raw.columns if '_bg' in c or '_trt' in c]\n",
    "models_cnty_temp.drop(to_drop, axis='columns', inplace=True)\n",
    "models_cnty_temp['geoid_cnty'] = models_cnty_temp['geoid'].str[:-7]\n",
    "models_cnty_temp.drop('geoid', axis='columns', inplace=True)\n",
    "models_cnty_temp = models_cnty_temp.drop_duplicates()\n",
    "\n",
    "print('{} counties in temp'.format(models_cnty_temp.shape[0]))\n",
    "display(models_cnty_temp.head())\n",
    "\n",
    "# build rollup from tract data\n",
    "models_cnty = models_trt.copy()\n",
    "models_cnty['geoid_cnty'] = models_cnty['geoid_tract'].str[:-6]\n",
    "models_cnty = pd.merge(models_cnty, models_cnty_temp, how='outer')\n",
    "\n",
    "models_cnty['fire_propensity_cnty'] = models_cnty.groupby('geoid_cnty').transform('mean')['fire_propensity_trt']\n",
    "models_cnty['cnty_rollup_detectors'] = models_cnty.groupby('geoid_cnty').transform('mean')['detectors_trt']\n",
    "\n",
    "models_cnty.loc[models_cnty['detectors_cnty'].isnull(), 'detectors_cnty'] = models_cnty['cnty_rollup_detectors']\n",
    "\n",
    "keep_cols = ['geoid_cnty', 'fire_propensity_cnty', 'detectors_cnty']\n",
    "models_cnty = models_cnty[keep_cols]\n",
    "models_cnty = models_cnty.drop_duplicates()\n",
    "\n",
    "print('{} counties'.format(models_cnty.shape[0]))\n",
    "display(models_cnty['geoid_cnty'].str.len().value_counts())\n",
    "display(models_cnty.head())"
   ]
  },
  {
   "cell_type": "markdown",
   "metadata": {},
   "source": [
    "## Load Full National Set"
   ]
  },
  {
   "cell_type": "code",
   "execution_count": 9,
   "metadata": {},
   "outputs": [],
   "source": [
    "# set relative paths\n",
    "p = Path.cwd()\n",
    "acs_path = p.parent.parent / 'Data' / 'Master Project Data' /  'ACS 5YR Block Group Data.csv'"
   ]
  },
  {
   "cell_type": "code",
   "execution_count": 10,
   "metadata": {
    "tags": []
   },
   "outputs": [
    {
     "output_type": "stream",
     "name": "stdout",
     "text": "217739 total block groups nationally\n"
    },
    {
     "output_type": "display_data",
     "data": {
      "text/plain": "            geoid  tot_population\n0  #_530019501001             842\n1  #_530019501002             922\n2  #_530019501003             515\n3  #_530019502001             530\n4  #_530019502002             679",
      "text/html": "<div>\n<style scoped>\n    .dataframe tbody tr th:only-of-type {\n        vertical-align: middle;\n    }\n\n    .dataframe tbody tr th {\n        vertical-align: top;\n    }\n\n    .dataframe thead th {\n        text-align: right;\n    }\n</style>\n<table border=\"1\" class=\"dataframe\">\n  <thead>\n    <tr style=\"text-align: right;\">\n      <th></th>\n      <th>geoid</th>\n      <th>tot_population</th>\n    </tr>\n  </thead>\n  <tbody>\n    <tr>\n      <th>0</th>\n      <td>#_530019501001</td>\n      <td>842</td>\n    </tr>\n    <tr>\n      <th>1</th>\n      <td>#_530019501002</td>\n      <td>922</td>\n    </tr>\n    <tr>\n      <th>2</th>\n      <td>#_530019501003</td>\n      <td>515</td>\n    </tr>\n    <tr>\n      <th>3</th>\n      <td>#_530019502001</td>\n      <td>530</td>\n    </tr>\n    <tr>\n      <th>4</th>\n      <td>#_530019502002</td>\n      <td>679</td>\n    </tr>\n  </tbody>\n</table>\n</div>"
     },
     "metadata": {}
    }
   ],
   "source": [
    "# load full data\n",
    "cols_to_use = ['GEOID', 'tot_population']\n",
    "natl = pd.read_csv(acs_path, usecols=cols_to_use, encoding='latin-1')\n",
    "natl.rename({'GEOID': 'geoid'}, axis='columns', inplace=True)\n",
    "\n",
    "print('{} total block groups nationally'.format(natl.shape[0]))\n",
    "display(natl.head())"
   ]
  },
  {
   "cell_type": "markdown",
   "metadata": {},
   "source": [
    "## Fill in Gaps"
   ]
  },
  {
   "cell_type": "code",
   "execution_count": 11,
   "metadata": {},
   "outputs": [
    {
     "output_type": "display_data",
     "data": {
      "text/plain": "            geoid  tot_population    geoid_tract geoid_cnty  \\\n0  #_530019501001             842  #_53001950100    #_53001   \n1  #_530019501002             922  #_53001950100    #_53001   \n2  #_530019501003             515  #_53001950100    #_53001   \n3  #_530019502001             530  #_53001950200    #_53001   \n4  #_530019502002             679  #_53001950200    #_53001   \n\n   fire_propensity_bg  detectors_bg  fire_propensity_trt  detectors_trt  \\\n0                 NaN           NaN                  NaN            NaN   \n1                 NaN           NaN                  NaN            NaN   \n2                 NaN           NaN                  NaN            NaN   \n3                 NaN           NaN                  NaN            NaN   \n4                 NaN           NaN                  NaN            NaN   \n\n   fire_propensity_cnty  detectors_cnty  \n0              0.166635             NaN  \n1              0.166635             NaN  \n2              0.166635             NaN  \n3              0.166635             NaN  \n4              0.166635             NaN  ",
      "text/html": "<div>\n<style scoped>\n    .dataframe tbody tr th:only-of-type {\n        vertical-align: middle;\n    }\n\n    .dataframe tbody tr th {\n        vertical-align: top;\n    }\n\n    .dataframe thead th {\n        text-align: right;\n    }\n</style>\n<table border=\"1\" class=\"dataframe\">\n  <thead>\n    <tr style=\"text-align: right;\">\n      <th></th>\n      <th>geoid</th>\n      <th>tot_population</th>\n      <th>geoid_tract</th>\n      <th>geoid_cnty</th>\n      <th>fire_propensity_bg</th>\n      <th>detectors_bg</th>\n      <th>fire_propensity_trt</th>\n      <th>detectors_trt</th>\n      <th>fire_propensity_cnty</th>\n      <th>detectors_cnty</th>\n    </tr>\n  </thead>\n  <tbody>\n    <tr>\n      <th>0</th>\n      <td>#_530019501001</td>\n      <td>842</td>\n      <td>#_53001950100</td>\n      <td>#_53001</td>\n      <td>NaN</td>\n      <td>NaN</td>\n      <td>NaN</td>\n      <td>NaN</td>\n      <td>0.166635</td>\n      <td>NaN</td>\n    </tr>\n    <tr>\n      <th>1</th>\n      <td>#_530019501002</td>\n      <td>922</td>\n      <td>#_53001950100</td>\n      <td>#_53001</td>\n      <td>NaN</td>\n      <td>NaN</td>\n      <td>NaN</td>\n      <td>NaN</td>\n      <td>0.166635</td>\n      <td>NaN</td>\n    </tr>\n    <tr>\n      <th>2</th>\n      <td>#_530019501003</td>\n      <td>515</td>\n      <td>#_53001950100</td>\n      <td>#_53001</td>\n      <td>NaN</td>\n      <td>NaN</td>\n      <td>NaN</td>\n      <td>NaN</td>\n      <td>0.166635</td>\n      <td>NaN</td>\n    </tr>\n    <tr>\n      <th>3</th>\n      <td>#_530019502001</td>\n      <td>530</td>\n      <td>#_53001950200</td>\n      <td>#_53001</td>\n      <td>NaN</td>\n      <td>NaN</td>\n      <td>NaN</td>\n      <td>NaN</td>\n      <td>0.166635</td>\n      <td>NaN</td>\n    </tr>\n    <tr>\n      <th>4</th>\n      <td>#_530019502002</td>\n      <td>679</td>\n      <td>#_53001950200</td>\n      <td>#_53001</td>\n      <td>NaN</td>\n      <td>NaN</td>\n      <td>NaN</td>\n      <td>NaN</td>\n      <td>0.166635</td>\n      <td>NaN</td>\n    </tr>\n  </tbody>\n</table>\n</div>"
     },
     "metadata": {}
    }
   ],
   "source": [
    "natl['geoid_tract'] = natl['geoid'].str[:-1]\n",
    "natl['geoid_cnty'] = natl['geoid_tract'].str[:-6]\n",
    "\n",
    "natl = pd.merge(natl, models_bg, how='left')\n",
    "natl = pd.merge(natl, models_trt, how='left', on='geoid_tract')\n",
    "natl = pd.merge(natl, models_cnty, how='left', on='geoid_cnty')\n",
    "\n",
    "display(natl.head())\n"
   ]
  },
  {
   "cell_type": "code",
   "execution_count": 17,
   "metadata": {},
   "outputs": [
    {
     "output_type": "execute_result",
     "data": {
      "text/plain": "               geoid    geoid_tract geoid_cnty  tot_population  \\\n5258  #_010010201001  #_01001020100    #_01001             692   \n5259  #_010010201002  #_01001020100    #_01001            1153   \n5260  #_010010202001  #_01001020200    #_01001            1015   \n5261  #_010010202002  #_01001020200    #_01001             957   \n5262  #_010010203001  #_01001020300    #_01001            2555   \n\n      fire_propensity_comb  detectors_comb  fire_propensity_bg  detectors_bg  \\\n5258              0.524071           52.63            0.524071           NaN   \n5259              0.524071           52.63                 NaN           NaN   \n5260              0.198921           52.63                 NaN           NaN   \n5261              0.198921           52.63                 NaN           NaN   \n5262              0.198921           52.63                 NaN           NaN   \n\n      fire_propensity_trt  detectors_trt  fire_propensity_cnty  detectors_cnty  \n5258             0.524071            NaN              0.198921           52.63  \n5259             0.524071            NaN              0.198921           52.63  \n5260                  NaN            NaN              0.198921           52.63  \n5261                  NaN            NaN              0.198921           52.63  \n5262                  NaN            NaN              0.198921           52.63  ",
      "text/html": "<div>\n<style scoped>\n    .dataframe tbody tr th:only-of-type {\n        vertical-align: middle;\n    }\n\n    .dataframe tbody tr th {\n        vertical-align: top;\n    }\n\n    .dataframe thead th {\n        text-align: right;\n    }\n</style>\n<table border=\"1\" class=\"dataframe\">\n  <thead>\n    <tr style=\"text-align: right;\">\n      <th></th>\n      <th>geoid</th>\n      <th>geoid_tract</th>\n      <th>geoid_cnty</th>\n      <th>tot_population</th>\n      <th>fire_propensity_comb</th>\n      <th>detectors_comb</th>\n      <th>fire_propensity_bg</th>\n      <th>detectors_bg</th>\n      <th>fire_propensity_trt</th>\n      <th>detectors_trt</th>\n      <th>fire_propensity_cnty</th>\n      <th>detectors_cnty</th>\n    </tr>\n  </thead>\n  <tbody>\n    <tr>\n      <th>5258</th>\n      <td>#_010010201001</td>\n      <td>#_01001020100</td>\n      <td>#_01001</td>\n      <td>692</td>\n      <td>0.524071</td>\n      <td>52.63</td>\n      <td>0.524071</td>\n      <td>NaN</td>\n      <td>0.524071</td>\n      <td>NaN</td>\n      <td>0.198921</td>\n      <td>52.63</td>\n    </tr>\n    <tr>\n      <th>5259</th>\n      <td>#_010010201002</td>\n      <td>#_01001020100</td>\n      <td>#_01001</td>\n      <td>1153</td>\n      <td>0.524071</td>\n      <td>52.63</td>\n      <td>NaN</td>\n      <td>NaN</td>\n      <td>0.524071</td>\n      <td>NaN</td>\n      <td>0.198921</td>\n      <td>52.63</td>\n    </tr>\n    <tr>\n      <th>5260</th>\n      <td>#_010010202001</td>\n      <td>#_01001020200</td>\n      <td>#_01001</td>\n      <td>1015</td>\n      <td>0.198921</td>\n      <td>52.63</td>\n      <td>NaN</td>\n      <td>NaN</td>\n      <td>NaN</td>\n      <td>NaN</td>\n      <td>0.198921</td>\n      <td>52.63</td>\n    </tr>\n    <tr>\n      <th>5261</th>\n      <td>#_010010202002</td>\n      <td>#_01001020200</td>\n      <td>#_01001</td>\n      <td>957</td>\n      <td>0.198921</td>\n      <td>52.63</td>\n      <td>NaN</td>\n      <td>NaN</td>\n      <td>NaN</td>\n      <td>NaN</td>\n      <td>0.198921</td>\n      <td>52.63</td>\n    </tr>\n    <tr>\n      <th>5262</th>\n      <td>#_010010203001</td>\n      <td>#_01001020300</td>\n      <td>#_01001</td>\n      <td>2555</td>\n      <td>0.198921</td>\n      <td>52.63</td>\n      <td>NaN</td>\n      <td>NaN</td>\n      <td>NaN</td>\n      <td>NaN</td>\n      <td>0.198921</td>\n      <td>52.63</td>\n    </tr>\n  </tbody>\n</table>\n</div>"
     },
     "metadata": {},
     "execution_count": 17
    }
   ],
   "source": [
    "natl['fire_propensity_comb'] = natl['fire_propensity_bg']\n",
    "natl.loc[natl['fire_propensity_comb'].isnull(), 'fire_propensity_comb'] = natl['fire_propensity_trt']\n",
    "natl.loc[natl['fire_propensity_comb'].isnull(), 'fire_propensity_comb'] = natl['fire_propensity_cnty']\n",
    "\n",
    "\n",
    "natl['detectors_comb'] = natl['detectors_bg']\n",
    "natl.loc[natl['detectors_comb'].isnull(), 'detectors_comb'] = natl['detectors_trt']\n",
    "natl.loc[natl['detectors_comb'].isnull(), 'detectors_comb'] = natl['detectors_cnty']\n",
    "\n",
    "col_order = ['geoid', 'geoid_tract', 'geoid_cnty', 'tot_population', 'fire_propensity_comb', 'detectors_comb',\n",
    "            'fire_propensity_bg', 'detectors_bg', 'fire_propensity_trt', 'detectors_trt', \n",
    "            'fire_propensity_cnty', 'detectors_cnty']\n",
    "natl = natl[col_order]\n",
    "natl.sort_values('geoid', inplace=True)\n",
    "\n",
    "natl.head()"
   ]
  },
  {
   "cell_type": "markdown",
   "metadata": {},
   "source": [
    "## Export Data"
   ]
  },
  {
   "cell_type": "code",
   "execution_count": 18,
   "metadata": {},
   "outputs": [],
   "source": [
    "output_path = data_path / 'aggregated_models.csv'\n",
    "natl.to_csv(output_path, index=False)"
   ]
  },
  {
   "cell_type": "code",
   "execution_count": null,
   "metadata": {},
   "outputs": [],
   "source": []
  }
 ]
}